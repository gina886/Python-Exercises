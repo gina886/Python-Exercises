{
 "cells": [
  {
   "cell_type": "markdown",
   "id": "9ded94d4-53d5-4ccc-8fe2-ffa3356f53d0",
   "metadata": {},
   "source": [
    "# Data Science Tools and Ecosystem\n"
   ]
  },
  {
   "cell_type": "markdown",
   "id": "1c961d4d-7627-482f-969d-b36e0897545e",
   "metadata": {},
   "source": [
    "This notebook summarizes data science tools and the ecosystem.\n",
    "    "
   ]
  },
  {
   "cell_type": "markdown",
   "id": "aa0055d3-3afe-4fb8-95d8-0ca63ba4c5b4",
   "metadata": {},
   "source": [
    "Some popular languages used by data scientists include:\n",
    "\n",
    "1. Python  \n",
    "2. R  \n",
    "3. SQL  \n"
   ]
  },
  {
   "cell_type": "markdown",
   "id": "2aba5b3c-43a8-4949-baf6-dcce74fa8afe",
   "metadata": {},
   "source": [
    "Some popular libraries used by data scientists include:\n",
    "\n",
    "1. NumPy  \n",
    "2. Pandas  \n",
    "3. Matplotlib  \n"
   ]
  },
  {
   "cell_type": "markdown",
   "id": "5b00b9cb-71bf-44c3-ab11-cdaaedbc529d",
   "metadata": {},
   "source": [
    "| Data Science Tools         |\n",
    "|---------------------------|\n",
    "| Jupyter Notebook          |\n",
    "| RStudio                   |\n",
    "| Apache Zeppelin           |\n",
    "\n"
   ]
  },
  {
   "cell_type": "markdown",
   "id": "e4dd4a98-4b67-49ce-b700-1a7a55779305",
   "metadata": {},
   "source": [
    "### Below are a few examples of evaluating arithmetic expressions in Python.\n"
   ]
  },
  {
   "cell_type": "code",
   "execution_count": 4,
   "id": "76792f3e-2208-4629-8a04-7bf36c7d5cf7",
   "metadata": {},
   "outputs": [
    {
     "data": {
      "text/plain": [
       "17"
      ]
     },
     "execution_count": 4,
     "metadata": {},
     "output_type": "execute_result"
    }
   ],
   "source": [
    "\n",
    "(3*4)+5 # this is a simple algorithms , 3 times 4 then plus 5\n"
   ]
  },
  {
   "cell_type": "code",
   "execution_count": 3,
   "id": "96e06880-3fab-41ed-a71f-4c9cdcc2fd96",
   "metadata": {},
   "outputs": [
    {
     "data": {
      "text/plain": [
       "3.3333333333333335"
      ]
     },
     "execution_count": 3,
     "metadata": {},
     "output_type": "execute_result"
    }
   ],
   "source": [
    "200 / 60\n"
   ]
  },
  {
   "cell_type": "markdown",
   "id": "d937b577-47e7-4827-aee7-ac58065f2031",
   "metadata": {},
   "source": [
    "Objectives:\n",
    "\n",
    "Explore some cool languages that data scientists love to use\n",
    "\n",
    "Check out popular libraries that make data crunching easier\n",
    "\n",
    "Learn how to build neat tables with just Markdown\n",
    "\n",
    "Do some quick math with Python (yes, Python can totally be your calculator!)\n",
    "\n",
    "Learn how to show off your notebook skills on GitHub 🎉"
   ]
  },
  {
   "cell_type": "markdown",
   "id": "82ae0837-2882-4f64-a4c5-2f630a7d9448",
   "metadata": {},
   "source": [
    "## Author\n",
    "\n",
    "Xiaoyu Wang\n"
   ]
  },
  {
   "cell_type": "code",
   "execution_count": null,
   "id": "808cafaf-fbec-46c1-92c4-382d0716af82",
   "metadata": {},
   "outputs": [],
   "source": []
  }
 ],
 "metadata": {
  "kernelspec": {
   "display_name": "Python 3 (ipykernel)",
   "language": "python",
   "name": "python3"
  },
  "language_info": {
   "codemirror_mode": {
    "name": "ipython",
    "version": 3
   },
   "file_extension": ".py",
   "mimetype": "text/x-python",
   "name": "python",
   "nbconvert_exporter": "python",
   "pygments_lexer": "ipython3",
   "version": "3.13.2"
  }
 },
 "nbformat": 4,
 "nbformat_minor": 5
}
