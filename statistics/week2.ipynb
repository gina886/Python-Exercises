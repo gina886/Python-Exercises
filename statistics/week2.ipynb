{
 "cells": [
  {
   "cell_type": "code",
   "execution_count": 23,
   "id": "8f125fb7-4fba-4564-a9fe-cf217b38812f",
   "metadata": {},
   "outputs": [
    {
     "name": "stdout",
     "output_type": "stream",
     "text": [
      "the mean: 70.1\n"
     ]
    }
   ],
   "source": [
    "#mean-- is the sum of all values in a series divided by the total number of values in that series\n",
    "import statistics\n",
    "data=[90,70,62,67,88,77,50,40,62,95]\n",
    "mean=statistics.mean(data)\n",
    "print(f'the mean: {mean}')\n"
   ]
  },
  {
   "cell_type": "code",
   "execution_count": 22,
   "id": "707b1d9d-d2be-4b64-aff3-fef6ee40e7c3",
   "metadata": {},
   "outputs": [
    {
     "name": "stdout",
     "output_type": "stream",
     "text": [
      "the median: 68.5\n"
     ]
    }
   ],
   "source": [
    "#The Median--middle value in a series of ranked values\n",
    "import statistics\n",
    "data=[90,70,62,67,88,77,50,40,62,95]\n",
    "median= statistics.median(data)\n",
    "print(f'the median: {median}')"
   ]
  },
  {
   "cell_type": "code",
   "execution_count": 24,
   "id": "089b890c-5ef1-4628-a256-3044dbfc5458",
   "metadata": {},
   "outputs": [
    {
     "name": "stdout",
     "output_type": "stream",
     "text": [
      "the mode: 62\n"
     ]
    }
   ],
   "source": [
    "#the mode ---most frequently occurring value.\n",
    "import statistics\n",
    "data=[90,70,62,67,88,77,50,40,62,95]\n",
    "mode=statistics.mode(data)\n",
    "print(f'the mode: {mode}')"
   ]
  },
  {
   "cell_type": "code",
   "execution_count": 17,
   "id": "32c22c91-7119-4da1-a4aa-47ee391d216f",
   "metadata": {},
   "outputs": [
    {
     "name": "stdout",
     "output_type": "stream",
     "text": [
      "95\n"
     ]
    }
   ],
   "source": [
    "#max - to find the largest value in a series of values\n",
    "import numpy as np\n",
    "data=[90,70,62,67,88,77,50,40,62,95]\n",
    "max=np.max(data)\n",
    "print(max)"
   ]
  },
  {
   "cell_type": "code",
   "execution_count": 18,
   "id": "43432455-5a1b-4ed8-9bb2-df63679b8ec1",
   "metadata": {},
   "outputs": [
    {
     "name": "stdout",
     "output_type": "stream",
     "text": [
      "40\n"
     ]
    }
   ],
   "source": [
    "#min- to find the smallest value in a series of values\n",
    "import numpy as np\n",
    "data=[90,70,62,67,88,77,50,40,62,95]\n",
    "min=np.min(data)\n",
    "print(min)\n"
   ]
  },
  {
   "cell_type": "code",
   "execution_count": 48,
   "id": "bb9a780e-ec2c-4658-ae8b-02a59a4304ee",
   "metadata": {},
   "outputs": [
    {
     "name": "stdout",
     "output_type": "stream",
     "text": [
      "[62.   85.25]\n"
     ]
    }
   ],
   "source": [
    "#to get the n-th percentile value\n",
    "import numpy as np\n",
    "data=[90,70,62,67,88,77,50,40,62,95]\n",
    "percentiles=np.percentile(data,[25,75]\n",
    "                        )\n",
    "print(percentiles)"
   ]
  },
  {
   "cell_type": "code",
   "execution_count": 49,
   "id": "27140c63-6fe3-4e67-a79b-c2b68ab91be0",
   "metadata": {},
   "outputs": [
    {
     "name": "stdout",
     "output_type": "stream",
     "text": [
      "population variance is :283.49\n",
      "sample variance is : 314.99\n"
     ]
    }
   ],
   "source": [
    "#to compute sample variance and population variance\n",
    "import numpy as np\n",
    "data=[90,70,62,67,88,77,50,40,62,95]\n",
    "pop_variance=np.var(data)\n",
    "sample_variance=np.var(data,ddof=1)\n",
    "print(f\"population variance is :{pop_variance:.2f}\")\n",
    "print(f\"sample variance is : {sample_variance:.2f}\")\n"
   ]
  },
  {
   "cell_type": "code",
   "execution_count": 47,
   "id": "6e4571bf-d10a-42be-9075-1cf7d4d56d0e",
   "metadata": {},
   "outputs": [
    {
     "name": "stdout",
     "output_type": "stream",
     "text": [
      "population standard deviation is :16.84\n",
      "sample standard deviation is : 17.75\n"
     ]
    }
   ],
   "source": [
    "#to compute sample standard deviation and population standard deviation\n",
    "import numpy as np\n",
    "data=[90,70,62,67,88,77,50,40,62,95]\n",
    "pop_standard_deviation=np.std(data)\n",
    "sample_standard_deviation=np.std(data,ddof=1)\n",
    "print(f\"population standard deviation is :{pop_standard_deviation:.2f}\")\n",
    "print(f\"sample standard deviation is : {sample_standard_deviation:.2f}\")"
   ]
  },
  {
   "cell_type": "code",
   "execution_count": null,
   "id": "01c4f040-cc27-469c-825b-a1ad19d46ba2",
   "metadata": {},
   "outputs": [],
   "source": []
  }
 ],
 "metadata": {
  "kernelspec": {
   "display_name": "anaconda-2024.02-py310",
   "language": "python",
   "name": "conda-env-anaconda-2024.02-py310-py"
  },
  "language_info": {
   "codemirror_mode": {
    "name": "ipython",
    "version": 3
   },
   "file_extension": ".py",
   "mimetype": "text/x-python",
   "name": "python",
   "nbconvert_exporter": "python",
   "pygments_lexer": "ipython3",
   "version": "3.10.14"
  }
 },
 "nbformat": 4,
 "nbformat_minor": 5
}
