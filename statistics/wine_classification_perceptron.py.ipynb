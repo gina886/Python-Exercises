{
 "cells": [
  {
   "cell_type": "code",
   "execution_count": 23,
   "id": "65136333-101d-4dfe-a26e-00a0e93995c5",
   "metadata": {},
   "outputs": [
    {
     "name": "stdout",
     "output_type": "stream",
     "text": [
      "预测值: [0 1 1 0 1 0 1 1 1 0 1 0 1 1 1 1 1 1 1 1 0 0 1 0 1 0]\n",
      "真实值: [0 0 0 0 1 0 1 1 1 0 1 0 1 0 1 1 0 1 1 1 0 0 1 0 1 0]\n",
      "准确率: 0.8461538461538461\n"
     ]
    }
   ],
   "source": [
    "from sklearn.datasets import load_wine\n",
    "from sklearn.linear_model import Perceptron\n",
    "from sklearn.model_selection import train_test_split\n",
    "from sklearn.metrics import accuracy_score\n",
    "\n",
    "# 1. Load dataset\n",
    "def load_dataset():\n",
    "    data = load_wine()\n",
    "    X = data.data[:130]\n",
    "    y = data.target[:130]\n",
    "    return X, y\n",
    "\n",
    "# 2. Split dataset\n",
    "def split(X, y):\n",
    "    X_train, X_test, y_train, y_test = train_test_split(X, y, test_size=0.2, random_state=42)\n",
    "    return X_train, X_test, y_train, y_test\n",
    "\n",
    "# 3. Create and train Perceptron\n",
    "def create_train_perceptron(X_train, y_train):\n",
    "    model = Perceptron(\n",
    "        max_iter=1000,\n",
    "        eta0=0.1,\n",
    "        early_stopping=True,\n",
    "        random_state=42)\n",
    "    model.fit(X_train, y_train)\n",
    "    return model\n",
    "\n",
    "# 4. Test model\n",
    "def test_model(model, X_test, y_test):\n",
    "    y_pred = model.predict(X_test)\n",
    "    print(\"预测值:\", y_pred)\n",
    "    print(\"真实值:\", y_test)\n",
    "    print(\"准确率:\", accuracy_score(y_test, y_pred))\n",
    "\n",
    "\n",
    "X, y = load_dataset()\n",
    "X_train, X_test, y_train, y_test = split(X, y)\n",
    "model = create_train_perceptron(X_train, y_train)\n",
    "test_model(model, X_test, y_test)\n"
   ]
  },
  {
   "cell_type": "code",
   "execution_count": null,
   "id": "fbdf2c61-6e8f-43aa-8edd-c52a144ec260",
   "metadata": {},
   "outputs": [],
   "source": []
  },
  {
   "cell_type": "code",
   "execution_count": null,
   "id": "87cc62df-2664-450a-9ede-f6424c29e4c8",
   "metadata": {},
   "outputs": [],
   "source": []
  },
  {
   "cell_type": "code",
   "execution_count": null,
   "id": "835ad558-8494-435b-ad71-069c8677099c",
   "metadata": {},
   "outputs": [],
   "source": []
  }
 ],
 "metadata": {
  "kernelspec": {
   "display_name": "anaconda-2024.02-py310",
   "language": "python",
   "name": "conda-env-anaconda-2024.02-py310-py"
  },
  "language_info": {
   "codemirror_mode": {
    "name": "ipython",
    "version": 3
   },
   "file_extension": ".py",
   "mimetype": "text/x-python",
   "name": "python",
   "nbconvert_exporter": "python",
   "pygments_lexer": "ipython3",
   "version": "3.10.14"
  }
 },
 "nbformat": 4,
 "nbformat_minor": 5
}
