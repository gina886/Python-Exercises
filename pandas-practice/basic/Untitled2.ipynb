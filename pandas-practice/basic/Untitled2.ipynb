{
 "cells": [
  {
   "cell_type": "code",
   "execution_count": 5,
   "id": "fbac3d6e-c255-4d00-b1ff-1c1f65026ed8",
   "metadata": {},
   "outputs": [
    {
     "name": "stdout",
     "output_type": "stream",
     "text": [
      "                          日期  一氧化碳  二氧化碳  二氧化氮  二氧化硫    臭氧  细颗粒物  可吸入颗粒物  \\\n",
      "0  2024-01-01 00:00:00+00:00  71.0   NaN   7.7   4.4  29.0  12.2    22.2   \n",
      "1  2024-01-01 01:00:00+00:00  70.0   NaN   6.7   3.9  30.0  12.2    22.5   \n",
      "2  2024-01-01 02:00:00+00:00  68.0   NaN   5.3   3.3  32.0  11.6    21.7   \n",
      "3  2024-01-01 03:00:00+00:00  67.0   NaN   4.2   2.8  34.0  11.5    21.5   \n",
      "4  2024-01-01 04:00:00+00:00  67.0   NaN   3.7   2.7  36.0  12.3    22.9   \n",
      "5  2024-01-01 05:00:00+00:00  68.0   NaN   3.6   2.9  38.0  13.8    25.2   \n",
      "6  2024-01-01 06:00:00+00:00  69.0   NaN   4.0   3.1  38.0  12.3    22.8   \n",
      "7  2024-01-01 07:00:00+00:00  71.0   NaN   5.5   3.3  35.0  12.4    23.0   \n",
      "8  2024-01-01 08:00:00+00:00  74.0   NaN   7.5   3.7  30.0  11.7    21.6   \n",
      "9  2024-01-01 09:00:00+00:00  76.0   NaN   9.1   3.9  26.0  11.2    20.5   \n",
      "\n",
      "      空气质量指数  \n",
      "0  24.808334  \n",
      "1  24.333336  \n",
      "2  23.850000  \n",
      "3  23.391668  \n",
      "4  23.091663  \n",
      "5  22.974998  \n",
      "6  23.099998  \n",
      "7  23.208334  \n",
      "8  23.408333  \n",
      "9  23.625000  \n"
     ]
    }
   ],
   "source": [
    "import pandas as pd\n",
    "import numpy as np\n",
    "\n",
    "# read the data\n",
    "df = pd.read_csv('/Users/gina/Desktop/SydneyAirQuality.csv')\n",
    "\n",
    "# rename the columns( convert the english to chinese)\n",
    "df.columns = [\"日期\", \"一氧化碳\", \"二氧化碳\", \"二氧化氮\", \"二氧化硫\", \"臭氧\", \"细颗粒物\", \"可吸入颗粒物\", \"空气质量指数\"]\n",
    "\n",
    "# replace \"?\" to NaN\n",
    "df = df.replace(\"?\", np.nan)\n",
    "\n",
    "print(df.head(10))\n",
    "\n",
    "# save after cleaned data\n",
    "df.to_csv('/Users/gina/Desktop/SydneyAirQuality_Cleaned.csv', index=False)\n",
    "\n"
   ]
  },
  {
   "cell_type": "code",
   "execution_count": null,
   "id": "b8bb3e95-e1e5-4eee-8fb2-572539955880",
   "metadata": {},
   "outputs": [],
   "source": []
  },
  {
   "cell_type": "code",
   "execution_count": null,
   "id": "3465366d-ec84-4bb3-86d0-770fc710ec69",
   "metadata": {},
   "outputs": [],
   "source": []
  }
 ],
 "metadata": {
  "kernelspec": {
   "display_name": "Python 3 (ipykernel)",
   "language": "python",
   "name": "python3"
  },
  "language_info": {
   "codemirror_mode": {
    "name": "ipython",
    "version": 3
   },
   "file_extension": ".py",
   "mimetype": "text/x-python",
   "name": "python",
   "nbconvert_exporter": "python",
   "pygments_lexer": "ipython3",
   "version": "3.13.2"
  }
 },
 "nbformat": 4,
 "nbformat_minor": 5
}
