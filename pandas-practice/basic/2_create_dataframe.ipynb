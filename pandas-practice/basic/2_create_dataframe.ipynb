{
 "cells": [
  {
   "cell_type": "code",
   "execution_count": 4,
   "id": "15de37e6-2cb8-410c-b30e-5588ab440750",
   "metadata": {},
   "outputs": [
    {
     "name": "stdout",
     "output_type": "stream",
     "text": [
      "   Name Age\n",
      "0  gina  20\n",
      "1  tina  30\n",
      "2  lina  25\n"
     ]
    }
   ],
   "source": [
    "import numpy as np\n",
    "import pandas as pd\n",
    "a= np.array([['gina', 20], ['tina', 30], ['lina', 25]])\n",
    "df= pd.DataFrame(a, columns=['Name','Age']) #df = dataframe\n",
    "print(df) # dataframe including rows and columns"
   ]
  },
  {
   "cell_type": "code",
   "execution_count": 24,
   "id": "dac8b1fd-2f84-4c20-9559-2ebb54a75faa",
   "metadata": {},
   "outputs": [
    {
     "name": "stdout",
     "output_type": "stream",
     "text": [
      "   gina  lina  slina   tina\n",
      "2   100   100   20.0    NaN\n",
      "3   100    20    NaN  100.0\n",
      "<class 'pandas.core.frame.DataFrame'>\n",
      "Index: 2 entries, 2 to 3\n",
      "Data columns (total 4 columns):\n",
      " #   Column  Non-Null Count  Dtype  \n",
      "---  ------  --------------  -----  \n",
      " 0   gina    2 non-null      int64  \n",
      " 1   lina    2 non-null      int64  \n",
      " 2   slina   1 non-null      float64\n",
      " 3   tina    1 non-null      float64\n",
      "dtypes: float64(2), int64(2)\n",
      "memory usage: 80.0+ bytes\n",
      "None\n",
      "gina     100.0\n",
      "lina     100.0\n",
      "slina     20.0\n",
      "tina       NaN\n",
      "Name: 2, dtype: float64\n"
     ]
    }
   ],
   "source": [
    "import pandas as pd\n",
    "\n",
    "data = [{'gina': 100, 'lina': 100, 'slina': 20},{'gina':100,'lina':20, 'tina':100}]\n",
    "df =pd.DataFrame(data, index=['2', '3'])# only 2 rows\n",
    "# return all values\n",
    "print(df) \n",
    "\n",
    "# check the info\n",
    "print(df.info())\n",
    "\n",
    "\n",
    "#check the first row\n",
    "print(df.loc['2']) \n",
    "\n",
    "\n",
    "\n",
    "df.to_csv(\"my_data.csv\")\n",
    "\n"
   ]
  },
  {
   "cell_type": "code",
   "execution_count": null,
   "id": "d523ba48-73cf-46f9-b507-0895f7f6cc2a",
   "metadata": {},
   "outputs": [],
   "source": []
  },
  {
   "cell_type": "code",
   "execution_count": null,
   "id": "6d558d16-99ae-4519-a8f8-9c5097e5ba81",
   "metadata": {},
   "outputs": [],
   "source": []
  }
 ],
 "metadata": {
  "kernelspec": {
   "display_name": "Python 3 (ipykernel)",
   "language": "python",
   "name": "python3"
  },
  "language_info": {
   "codemirror_mode": {
    "name": "ipython",
    "version": 3
   },
   "file_extension": ".py",
   "mimetype": "text/x-python",
   "name": "python",
   "nbconvert_exporter": "python",
   "pygments_lexer": "ipython3",
   "version": "3.13.2"
  }
 },
 "nbformat": 4,
 "nbformat_minor": 5
}
