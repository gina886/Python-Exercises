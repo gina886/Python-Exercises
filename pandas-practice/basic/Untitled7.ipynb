{
 "cells": [
  {
   "cell_type": "code",
   "execution_count": 2,
   "id": "c3c35c1e-58e2-4d55-ae86-5a04bac4e819",
   "metadata": {},
   "outputs": [
    {
     "name": "stdout",
     "output_type": "stream",
     "text": [
      "                          日期      一氧化碳  二氧化碳      二氧化氮      二氧化硫        臭氧  \\\n",
      "0  2024-01-01 00:00:00+00:00  0.163594   NaN  0.122611  0.146179  0.146465   \n",
      "1  2024-01-01 01:00:00+00:00  0.161290   NaN  0.106688  0.129568  0.151515   \n",
      "2  2024-01-01 02:00:00+00:00  0.156682   NaN  0.084395  0.109635  0.161616   \n",
      "3  2024-01-01 03:00:00+00:00  0.154378   NaN  0.066879  0.093023  0.171717   \n",
      "4  2024-01-01 04:00:00+00:00  0.154378   NaN  0.058917  0.089701  0.181818   \n",
      "\n",
      "       细颗粒物    可吸入颗粒物    空气质量指数  \n",
      "0  0.276644  0.344186  0.342829  \n",
      "1  0.276644  0.348837  0.336265  \n",
      "2  0.263039  0.336434  0.329585  \n",
      "3  0.260771  0.333333  0.323252  \n",
      "4  0.278912  0.355039  0.319106  \n"
     ]
    }
   ],
   "source": [
    "import pandas as pd\n",
    "\n",
    "# Step 1: Read the original CSV file\n",
    "df = pd.read_csv('/Users/gina/Desktop/SydneyAirQuality.csv')\n",
    "\n",
    "# # Step 2: Rename the column headers to Chinese\n",
    "df.columns = [\"日期\", \"一氧化碳\", \"二氧化碳\", \"二氧化氮\", \"二氧化硫\", \"臭氧\", \"细颗粒物\", \"可吸入颗粒物\", \"空气质量指数\"]\n",
    "\n",
    "# Step 3: Replace missing values represented by \"?\" with actual NaN\n",
    "import numpy as np\n",
    "df = df.replace(\"?\", np.nan)\n",
    "\n",
    "#  Step 4: Convert selected columns to float (for numerical operations)\n",
    "cols_to_normalize = [\"一氧化碳\", \"二氧化碳\", \"二氧化氮\", \"二氧化硫\", \"臭氧\", \"细颗粒物\", \"可吸入颗粒物\", \"空气质量指数\"]\n",
    "df[cols_to_normalize] = df[cols_to_normalize].astype(float)\n",
    "\n",
    "#  Step 5: Normalize the data — divide each value by the maximum value in its column\n",
    "df_normalized = df.copy()\n",
    "df_normalized[cols_to_normalize] = df[cols_to_normalize] / df[cols_to_normalize].max()\n",
    "\n",
    "# 保存归一化后的数据\n",
    "df_normalized.to_csv('/Users/gina/Desktop/SydneyAirQuality_归一化.csv', index=False)\n",
    "\n",
    "# 打印前几行查看效果\n",
    "print(df_normalized.head())\n"
   ]
  },
  {
   "cell_type": "code",
   "execution_count": null,
   "id": "8871ea4f-d008-48fb-853f-e1cda287f1bb",
   "metadata": {},
   "outputs": [],
   "source": []
  },
  {
   "cell_type": "code",
   "execution_count": null,
   "id": "98c396a5-d68f-4fd3-95f7-67f95e265a45",
   "metadata": {},
   "outputs": [],
   "source": []
  }
 ],
 "metadata": {
  "kernelspec": {
   "display_name": "Python 3 (ipykernel)",
   "language": "python",
   "name": "python3"
  },
  "language_info": {
   "codemirror_mode": {
    "name": "ipython",
    "version": 3
   },
   "file_extension": ".py",
   "mimetype": "text/x-python",
   "name": "python",
   "nbconvert_exporter": "python",
   "pygments_lexer": "ipython3",
   "version": "3.13.2"
  }
 },
 "nbformat": 4,
 "nbformat_minor": 5
}
