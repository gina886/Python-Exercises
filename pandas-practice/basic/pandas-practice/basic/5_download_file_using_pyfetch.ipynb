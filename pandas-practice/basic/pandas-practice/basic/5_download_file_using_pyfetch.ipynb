{
  "metadata": {
    "kernelspec": {
      "name": "python",
      "display_name": "Python (Pyodide)",
      "language": "python"
    },
    "language_info": {
      "codemirror_mode": {
        "name": "python",
        "version": 3
      },
      "file_extension": ".py",
      "mimetype": "text/x-python",
      "name": "python",
      "nbconvert_exporter": "python",
      "pygments_lexer": "ipython3",
      "version": "3.8"
    }
  },
  "nbformat_minor": 4,
  "nbformat": 4,
  "cells": [
    {
      "cell_type": "code",
      "source": "from pyodide.http import pyfetch\nimport pandas as pd\nimport asyncio\n\nasync def download(url, filename):\n    response = await pyfetch(url)\n    if response.status == 200:\n        data = await response.bytes()\n        with open(filename, \"wb\") as f:\n            f.write(data)\n        print(f\"Downloaded and saved as {filename}\")\n    else:\n        print(f\"Failed to download file: HTTP {response.status}\")\n\nasync def main():\n    file_url = \"https://raw.githubusercontent.com/datasets/global-temp/master/data/monthly.csv\"\n    file_name = \"global_temp_monthly.csv\"\n    await download(file_url, file_name)\n    df = pd.read_csv(file_name)\n    print(df.head())\n\nawait main()\n\n\n",
      "metadata": {
        "trusted": true
      },
      "outputs": [
        {
          "name": "stdout",
          "text": "Downloaded and saved as global_temp_monthly.csv\n  Source     Year    Mean\n0   gcag  1850-01 -0.6746\n1   gcag  1850-02 -0.3334\n2   gcag  1850-03 -0.5913\n3   gcag  1850-04 -0.5887\n4   gcag  1850-05 -0.5088\n",
          "output_type": "stream"
        }
      ],
      "execution_count": 2
    },
    {
      "cell_type": "code",
      "source": "",
      "metadata": {
        "trusted": true
      },
      "outputs": [],
      "execution_count": null
    },
    {
      "cell_type": "code",
      "source": "",
      "metadata": {
        "trusted": true
      },
      "outputs": [],
      "execution_count": null
    }
  ]
}
