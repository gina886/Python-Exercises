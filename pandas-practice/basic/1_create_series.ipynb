{
 "cells": [
  {
   "cell_type": "code",
   "execution_count": 3,
   "id": "60e19834-9dcf-46e1-a3fd-2be567efccde",
   "metadata": {},
   "outputs": [
    {
     "name": "stdout",
     "output_type": "stream",
     "text": [
      "0    1\n",
      "1    2\n",
      "2    3\n",
      "3    4\n",
      "Name: g , dtype: int64\n"
     ]
    }
   ],
   "source": [
    "import pandas as pd\n",
    "series =pd.Series([1,2,3,4], name= \"g \" )\n",
    "print(series)"
   ]
  },
  {
   "cell_type": "code",
   "execution_count": 6,
   "id": "4674ccb4-1248-4c72-ba7f-03ab272feb2c",
   "metadata": {},
   "outputs": [
    {
     "name": "stdout",
     "output_type": "stream",
     "text": [
      "4\n"
     ]
    }
   ],
   "source": [
    "import pandas as ps\n",
    "a = [2,3,4,5]\n",
    "b= pd.Series(a)\n",
    "print(b[2])"
   ]
  },
  {
   "cell_type": "code",
   "execution_count": 15,
   "id": "83a537ea-357f-41c8-a63c-1649beaf8c8c",
   "metadata": {},
   "outputs": [
    {
     "name": "stdout",
     "output_type": "stream",
     "text": [
      "2    shanghai\n",
      "3    hangzhou\n",
      "dtype: object\n"
     ]
    }
   ],
   "source": [
    "import pandas as ps\n",
    "a= [\"beijin\", \"shanghai\", \"hangzhou\"]\n",
    "b=pd.Series(a, index = [1,2,3])\n",
    "print(b[[2,3]])"
   ]
  },
  {
   "cell_type": "code",
   "execution_count": 22,
   "id": "0a0f3091-9796-4cd0-9f79-fb39077ee308",
   "metadata": {},
   "outputs": [
    {
     "name": "stdout",
     "output_type": "stream",
     "text": [
      "1    shanghai\n",
      "2      beijin\n",
      "3    hangzhou\n",
      "dtype: object\n"
     ]
    }
   ],
   "source": [
    "import pandas as ps\n",
    "a = {1:\"shanghai\", 2:\"beijin\", 3:\"hangzhou\"}\n",
    "b = pd.Series(a)\n",
    "print(b)"
   ]
  },
  {
   "cell_type": "code",
   "execution_count": 47,
   "id": "2a3f4b15-e5f6-40ae-8259-3bea3f606aa2",
   "metadata": {},
   "outputs": [
    {
     "name": "stdout",
     "output_type": "stream",
     "text": [
      "Index(['a', 'b', 'c', 'd', 'e', 'f'], dtype='object')\n",
      "[13. 11. 12. 12. nan]\n",
      "a    13.0\n",
      "dtype: float64\n",
      "f   NaN\n",
      "dtype: float64\n",
      "float64\n",
      "(6,)\n",
      "a    False\n",
      "b    False\n",
      "c    False\n",
      "d     True\n",
      "e    False\n",
      "f     True\n",
      "dtype: bool\n",
      "a     True\n",
      "b     True\n",
      "c     True\n",
      "d     True\n",
      "e    False\n",
      "dtype: bool\n",
      "12.0    2\n",
      "13.0    1\n",
      "11.0    1\n",
      "Name: count, dtype: int64\n",
      "46.0\n",
      "10.0\n",
      "1.2909944487358056\n",
      "a    1.0\n",
      "b    2.0\n",
      "c    3.0\n",
      "d    NaN\n",
      "e    4.0\n",
      "f    NaN\n",
      "dtype: float64\n",
      "[13.0, 11.0, 12.0, 12.0, nan]\n",
      "      0\n",
      "a  13.0\n",
      "b  11.0\n",
      "c  12.0\n",
      "d  12.0\n",
      "e   NaN\n",
      "11.0\n",
      "13.0\n"
     ]
    }
   ],
   "source": [
    "import pandas as pd\n",
    "a = pd.Series([10, 11, 12, None, 13, None], index=['a', 'b', 'c', 'd', 'e', 'f'])\n",
    "b = pd.Series([13, 11, 12, 12, None], index=['a', 'b', 'c', 'd', 'e'])\n",
    "\n",
    "print(a.index)\n",
    "\n",
    "print(b.values)\n",
    "\n",
    "print(b.head(1))# return the first row\n",
    "\n",
    "print(a.tail(1)) # return the last row\n",
    "\n",
    "print(a.dtype) #return type \n",
    "\n",
    "print(a.shape) # return how many rows\n",
    "\n",
    "print(a.isnull()) # return true if the value is none - bool\n",
    "print(b.notnull()) # return false if the value is none\n",
    "\n",
    "print(b.value_counts()) # return the count values\n",
    "\n",
    "print(a.sum()) # sum the values\n",
    "print(a.min())\n",
    "print(a.std()) \n",
    "\n",
    "print(a.rank())\n",
    "print(b.to_list()) # convert series to list\n",
    "print(b.to_frame()) #convert series to dataframe\n",
    "\n",
    "\n",
    "print(a.iloc[1]) # select by position\n",
    "print(b.loc[\"a\"]) # select by index\n"
   ]
  },
  {
   "cell_type": "code",
   "execution_count": null,
   "id": "a0cd4a35-08ba-4fa4-a960-225da5192520",
   "metadata": {},
   "outputs": [],
   "source": []
  }
 ],
 "metadata": {
  "kernelspec": {
   "display_name": "Python 3 (ipykernel)",
   "language": "python",
   "name": "python3"
  },
  "language_info": {
   "codemirror_mode": {
    "name": "ipython",
    "version": 3
   },
   "file_extension": ".py",
   "mimetype": "text/x-python",
   "name": "python",
   "nbconvert_exporter": "python",
   "pygments_lexer": "ipython3",
   "version": "3.13.2"
  }
 },
 "nbformat": 4,
 "nbformat_minor": 5
}
